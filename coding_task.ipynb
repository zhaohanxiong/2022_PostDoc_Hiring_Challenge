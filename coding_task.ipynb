{
 "cells": [
  {
   "cell_type": "markdown",
   "metadata": {},
   "source": [
    "### Coding Challenge\n",
    "\n",
    "##### Background\n",
    "This is an open problem without definitive solutions. You will be assessed on the following skills:\n",
    "- Algorithms \n",
    "- Data structures\n",
    "- Computation/memory efficiency\n",
    "- Data handling/presentation\n",
    "\n",
    "Clearly describe any assumptions made and your thought-process. Use Python 3 (any version) with basic, commonly used, open access libraries (a few are provided below to start). Do not assume the examiner of this challenge has access your Python version, dependencies, or computational facility to run your code. You will only be assessed on the outputs visible in this notebook and any attachements you provide.\n",
    "\n",
    "You are provided with:\n",
    "1) A .csv file containing a minimum spanning tree (MST). Each row represents one edge connecting 2 nodes shown by the values in the 2 columns. The edges are bidirectional.\n",
    "2) A number containing the \"root node\" of the minimum spanning tree. This can be thought of as the origin from which the all the branches of the MST extend from. This root node is connected to several other nodes which can be found in the edges defined by it and another node.\n",
    "\n",
    "##### To Do\n",
    "1) Produce a high quality and informative visualization of the MST with the root node highlighted.\n",
    "2) Compute the distance of each node on the MST to the root node. You may assume edges are of unit value. Re-plot your solution to #1 by colouring the nodes with these distance values. Please include a colour bar to show the varying distances.\n",
    "3) Algorithmically assign each node in the MST to a \"major\" branch. A major branch is defined as a group of nodes connected along the same branch of the MST originating from a single edge connected to the root node. A visual aid is provided in \"demo.png\". Please label your major branches with numerical values (e.g. 0,1,2,3,4,etc) with a maximum of 7. Re-plot your solution to #1 by colouring the grouped nodes by their major branch.\n",
    "\n",
    "##### Submission\n",
    "Submit this jupyter notebook with all the outputs already produced so that no further computation is needed. You may choose to add attachments to your submission, provided your total submission size is under 20MB. Please submit a .zip file containing your attachments and the completed .ipynb if you choose. Please send a .zip file of all your outputs (attachments + Jupyter Notebook) to CVM personnel (cvm_personnel@cardiov.ox.ac.uk)"
   ]
  },
  {
   "cell_type": "markdown",
   "metadata": {},
   "source": [
    "Loading Libraries"
   ]
  },
  {
   "cell_type": "code",
   "execution_count": 1,
   "metadata": {},
   "outputs": [],
   "source": [
    "# Load dependencies\n",
    "import scipy\n",
    "import plotly\n",
    "import numpy as np\n",
    "import pandas as pd\n",
    "import networkx as nx\n",
    "import plotly.graph_objects as go"
   ]
  },
  {
   "cell_type": "markdown",
   "metadata": {},
   "source": [
    "Loading Data (DO NOT CHANGE)"
   ]
  },
  {
   "cell_type": "code",
   "execution_count": 2,
   "metadata": {},
   "outputs": [
    {
     "name": "stdout",
     "output_type": "stream",
     "text": [
      "   EndNodes_1  EndNodes_2\n",
      "0           1        1338\n",
      "1           2         209\n",
      "2           2        1033\n",
      "3           3          97\n",
      "4           3        1010\n"
     ]
    }
   ],
   "source": [
    "# Read file\n",
    "MST = pd.read_csv(\"MST.csv\", index_col=False)\n",
    "print(MST.head())\n",
    "\n",
    "# Construct a graph object (You do not necessarily have to use this)\n",
    "MST_list = [(MST.EndNodes_1[i], MST.EndNodes_2[i]) for i in range(MST.shape[0])]\n",
    "G = nx.from_edgelist(MST_list)\n",
    "\n",
    "# Value of root node (Hard Coded Here)\n",
    "root_node = 849"
   ]
  },
  {
   "cell_type": "markdown",
   "metadata": {},
   "source": [
    "Task 1 - Visualizing the MST"
   ]
  },
  {
   "cell_type": "code",
   "execution_count": 1,
   "metadata": {},
   "outputs": [],
   "source": [
    "# Task 1 here\n",
    "\n",
    "# Hint: using the default functions in the package networkx is very computationally intensive and produces low-quality visualizations\n"
   ]
  },
  {
   "cell_type": "markdown",
   "metadata": {},
   "source": [
    "Task 2 - Compute Node Distances"
   ]
  },
  {
   "cell_type": "code",
   "execution_count": 45,
   "metadata": {},
   "outputs": [],
   "source": [
    "# Task 2 here\n",
    "\n",
    "# Hint: distances can be calculated using an optimization algorithm\n",
    "# Hint: the visualization should show nodes further away from the root node having higher distances."
   ]
  },
  {
   "cell_type": "markdown",
   "metadata": {},
   "source": [
    "Task 3 - Assign Each Node to a Major Branch"
   ]
  },
  {
   "cell_type": "code",
   "execution_count": 47,
   "metadata": {},
   "outputs": [],
   "source": [
    "# Task 3 here\n",
    "\n",
    "# Hint: matrix reduction or recursion may be a good starting point\n",
    "# Hint: the visualization should show the root node with branches of different colors originating from it, where each branch is a major branch in the MST."
   ]
  }
 ],
 "metadata": {
  "kernelspec": {
   "display_name": "Python 3.10.3 ('env')",
   "language": "python",
   "name": "python3"
  },
  "language_info": {
   "codemirror_mode": {
    "name": "ipython",
    "version": 3
   },
   "file_extension": ".py",
   "mimetype": "text/x-python",
   "name": "python",
   "nbconvert_exporter": "python",
   "pygments_lexer": "ipython3",
   "version": "3.10.4"
  },
  "orig_nbformat": 4,
  "vscode": {
   "interpreter": {
    "hash": "e4dc6b0224d27235dec988ead42f740f3c8067d08028a6940d609f8d318d6bb4"
   }
  }
 },
 "nbformat": 4,
 "nbformat_minor": 2
}
